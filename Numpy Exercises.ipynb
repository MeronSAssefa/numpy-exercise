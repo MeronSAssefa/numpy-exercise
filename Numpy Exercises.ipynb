{
 "cells": [
  {
   "cell_type": "markdown",
   "metadata": {},
   "source": [
    "# Numpy Exercise for AI 240  - 10459          \n",
    "\n",
    "Instructor- Dr. Uma Gajendragadkar\n",
    "\n",
    "### Exercise 1.1 - If Numpy is not already installed then please install Numpy using below instruction\n",
    "!pip install Numpy      \n",
    "\n",
    "### Exercise 1.2 # Import Numpy package using below instruction \n",
    "import numpy as np\n",
    "\n",
    "### Exercise 1.3 ## Example Usage Read below example and execute the cell\n",
    "\n",
    "data = np.array([1,2,3,4,5])\n",
    "\n",
    "print(data)\n",
    "\n",
    "print(len(data))\n",
    "\n",
    "print(type(data))\n",
    "\n",
    "print(data.shape)\n",
    "\n",
    "### Exercise 1.4 Do all exercises from Lecture slides. Refer slides shared after the lecture.\n",
    "\n",
    "### Exercise 1.5 Searching Arrays - find method of numpy to search an element in array - You can google for the method\n",
    "\n",
    "Find the indexes where the value is 9:\n",
    "\n",
    "\n",
    "arr = np.array([3, 2, 14, 9, 10, 12])\n",
    "\n",
    "### Exercise 1.6 Join two arrays given below and print the result.\n",
    "\n",
    "arr1 = np.array([9, 5, 8])\n",
    "\n",
    "arr2 = np.array([55, 89, 76])\n",
    "\n",
    "### Save and submit your notebook in your Github account."
   ]
  },
  {
   "cell_type": "code",
   "execution_count": null,
   "metadata": {},
   "outputs": [],
   "source": [
    "#exercise 1.1"
   ]
  },
  {
   "cell_type": "code",
   "execution_count": 1,
   "metadata": {},
   "outputs": [
    {
     "name": "stdout",
     "output_type": "stream",
     "text": [
      "Collecting Numpy\n",
      "  Downloading numpy-2.2.5-cp312-cp312-macosx_11_0_arm64.whl.metadata (62 kB)\n",
      "Downloading numpy-2.2.5-cp312-cp312-macosx_11_0_arm64.whl (14.2 MB)\n",
      "\u001b[2K   \u001b[90m━━━━━━━━━━━━━━━━━━━━━━━━━━━━━━━━━━━━━━━━\u001b[0m \u001b[32m14.2/14.2 MB\u001b[0m \u001b[31m4.5 MB/s\u001b[0m eta \u001b[36m0:00:00\u001b[0ma \u001b[36m0:00:01\u001b[0m\n",
      "Installing collected packages: Numpy\n",
      "Successfully installed Numpy-2.2.5\n"
     ]
    }
   ],
   "source": [
    "!pip install Numpy"
   ]
  },
  {
   "cell_type": "code",
   "execution_count": null,
   "metadata": {},
   "outputs": [],
   "source": [
    "#exercise 1.2"
   ]
  },
  {
   "cell_type": "code",
   "execution_count": 4,
   "metadata": {},
   "outputs": [],
   "source": [
    "import numpy as np"
   ]
  },
  {
   "cell_type": "code",
   "execution_count": null,
   "metadata": {},
   "outputs": [],
   "source": [
    "#exercise 1.3"
   ]
  },
  {
   "cell_type": "code",
   "execution_count": 5,
   "metadata": {},
   "outputs": [
    {
     "name": "stdout",
     "output_type": "stream",
     "text": [
      "[1 2 3 4 5]\n",
      "5\n",
      "<class 'numpy.ndarray'>\n",
      "(5,)\n"
     ]
    }
   ],
   "source": [
    "data = np.array([1,2,3,4,5])\n",
    "\n",
    "print(data)\n",
    "\n",
    "print(len(data))\n",
    "\n",
    "print(type(data))\n",
    "\n",
    "print(data.shape)"
   ]
  },
  {
   "cell_type": "code",
   "execution_count": null,
   "metadata": {},
   "outputs": [],
   "source": [
    "#exercise 1.4"
   ]
  },
  {
   "cell_type": "code",
   "execution_count": 7,
   "metadata": {},
   "outputs": [
    {
     "name": "stdout",
     "output_type": "stream",
     "text": [
      "1\n"
     ]
    }
   ],
   "source": [
    "print(data[0])"
   ]
  },
  {
   "cell_type": "code",
   "execution_count": 8,
   "metadata": {},
   "outputs": [
    {
     "name": "stdout",
     "output_type": "stream",
     "text": [
      "[2 3 4]\n"
     ]
    }
   ],
   "source": [
    "print(data[1:4])"
   ]
  },
  {
   "cell_type": "code",
   "execution_count": 9,
   "metadata": {},
   "outputs": [
    {
     "name": "stdout",
     "output_type": "stream",
     "text": [
      "[1 2 3 4 5]\n"
     ]
    }
   ],
   "source": [
    "print(np.sort(data))"
   ]
  },
  {
   "cell_type": "code",
   "execution_count": 10,
   "metadata": {},
   "outputs": [],
   "source": [
    "#exercise 1.5"
   ]
  },
  {
   "cell_type": "code",
   "execution_count": 12,
   "metadata": {},
   "outputs": [],
   "source": [
    "arr = np.array([3, 2, 14, 9, 10, 12])"
   ]
  },
  {
   "cell_type": "code",
   "execution_count": 17,
   "metadata": {},
   "outputs": [
    {
     "name": "stdout",
     "output_type": "stream",
     "text": [
      "9\n"
     ]
    }
   ],
   "source": [
    "print(arr[3])"
   ]
  },
  {
   "cell_type": "code",
   "execution_count": 18,
   "metadata": {},
   "outputs": [],
   "source": [
    "#exercise 1.6"
   ]
  },
  {
   "cell_type": "code",
   "execution_count": 20,
   "metadata": {},
   "outputs": [],
   "source": [
    "arr1 = np.array([[9, 5, 8],[55, 89, 76]])\n"
   ]
  },
  {
   "cell_type": "code",
   "execution_count": 21,
   "metadata": {},
   "outputs": [
    {
     "name": "stdout",
     "output_type": "stream",
     "text": [
      "[[ 9  5  8]\n",
      " [55 89 76]]\n"
     ]
    }
   ],
   "source": [
    "print(arr1)"
   ]
  },
  {
   "cell_type": "code",
   "execution_count": null,
   "metadata": {},
   "outputs": [],
   "source": []
  }
 ],
 "metadata": {
  "kernelspec": {
   "display_name": "Python 3 (ipykernel)",
   "language": "python",
   "name": "python3"
  },
  "language_info": {
   "codemirror_mode": {
    "name": "ipython",
    "version": 3
   },
   "file_extension": ".py",
   "mimetype": "text/x-python",
   "name": "python",
   "nbconvert_exporter": "python",
   "pygments_lexer": "ipython3",
   "version": "3.12.9"
  }
 },
 "nbformat": 4,
 "nbformat_minor": 4
}
